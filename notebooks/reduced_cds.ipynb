{
 "cells": [
  {
   "cell_type": "code",
   "execution_count": 1,
   "metadata": {},
   "outputs": [],
   "source": [
    "import geopandas as gp"
   ]
  },
  {
   "cell_type": "code",
   "execution_count": 4,
   "metadata": {},
   "outputs": [
    {
     "name": "stdout",
     "output_type": "stream",
     "text": [
      "Archive:  ../raw_data/sample_protected_areas_1000.zip\n",
      "   creating: raw_data/sample_protected_areas_1000/\n",
      "  inflating: raw_data/sample_protected_areas_1000/sample_protected_areas_1000.cpg  \n",
      "  inflating: raw_data/sample_protected_areas_1000/sample_protected_areas_1000.shp  \n",
      "  inflating: raw_data/sample_protected_areas_1000/sample_protected_areas_1000.shx  \n",
      "  inflating: raw_data/sample_protected_areas_1000/sample_protected_areas_1000.dbf  \n",
      "  inflating: raw_data/sample_protected_areas_1000/sample_protected_areas_1000.prj  \n"
     ]
    }
   ],
   "source": [
    "!unzip ../raw_data/sample_protected_areas_1000.zip -d raw_data/"
   ]
  },
  {
   "cell_type": "code",
   "execution_count": 5,
   "metadata": {},
   "outputs": [],
   "source": [
    "all_protected_areas = gp.read_file(\"../raw_data/sample_protected_areas_1000/sample_protected_areas_1000.shp\")"
   ]
  },
  {
   "cell_type": "code",
   "execution_count": 8,
   "metadata": {},
   "outputs": [
    {
     "data": {
      "text/plain": [
       "(-31.169029141664772,\n",
       " 32.611141887507934,\n",
       " 27.746311186883922,\n",
       " 69.04164438989706)"
      ]
     },
     "execution_count": 8,
     "metadata": {},
     "output_type": "execute_result"
    }
   ],
   "source": [
    "all_protected_areas[\"lon\"].min(), all_protected_areas[\"lon\"].max(), all_protected_areas[\"lat\"].min(), all_protected_areas[\"lat\"].max()"
   ]
  },
  {
   "cell_type": "code",
   "execution_count": 9,
   "metadata": {},
   "outputs": [],
   "source": [
    "#all_protected_areas[\"geometry\"].total_bounds"
   ]
  },
  {
   "cell_type": "code",
   "execution_count": 10,
   "metadata": {},
   "outputs": [
    {
     "data": {
      "text/html": [
       "<div>\n",
       "<style scoped>\n",
       "    .dataframe tbody tr th:only-of-type {\n",
       "        vertical-align: middle;\n",
       "    }\n",
       "\n",
       "    .dataframe tbody tr th {\n",
       "        vertical-align: top;\n",
       "    }\n",
       "\n",
       "    .dataframe thead th {\n",
       "        text-align: right;\n",
       "    }\n",
       "</style>\n",
       "<table border=\"1\" class=\"dataframe\">\n",
       "  <thead>\n",
       "    <tr style=\"text-align: right;\">\n",
       "      <th></th>\n",
       "      <th>SITECODE</th>\n",
       "      <th>SITENAME</th>\n",
       "      <th>lon</th>\n",
       "      <th>lat</th>\n",
       "      <th>geometry</th>\n",
       "    </tr>\n",
       "  </thead>\n",
       "  <tbody>\n",
       "    <tr>\n",
       "      <th>0</th>\n",
       "      <td>ES0000548</td>\n",
       "      <td>Illeta de Cala Salada</td>\n",
       "      <td>1.293304</td>\n",
       "      <td>39.011174</td>\n",
       "      <td>POLYGON ((3564067.926 1812647.648, 3564069.806...</td>\n",
       "    </tr>\n",
       "    <tr>\n",
       "      <th>1</th>\n",
       "      <td>DE8334471</td>\n",
       "      <td>Loisach-Kochelsee-Moore</td>\n",
       "      <td>11.354190</td>\n",
       "      <td>47.683251</td>\n",
       "      <td>POLYGON ((4421186.931 2734606.011, 4421187.755...</td>\n",
       "    </tr>\n",
       "    <tr>\n",
       "      <th>2</th>\n",
       "      <td>DE2533301</td>\n",
       "      <td>Sude mit Zuflüssen</td>\n",
       "      <td>11.214671</td>\n",
       "      <td>53.397681</td>\n",
       "      <td>POLYGON ((4404911.239 3381739.303, 4404844.494...</td>\n",
       "    </tr>\n",
       "    <tr>\n",
       "      <th>3</th>\n",
       "      <td>IT9340091</td>\n",
       "      <td>Zona costiera fra Briatico e Nicotera</td>\n",
       "      <td>15.903443</td>\n",
       "      <td>38.647392</td>\n",
       "      <td>MULTIPOLYGON (((4834580.041 1743325.937, 48345...</td>\n",
       "    </tr>\n",
       "    <tr>\n",
       "      <th>4</th>\n",
       "      <td>LTVARB004</td>\n",
       "      <td>Karavi?ki? mi?kas</td>\n",
       "      <td>24.650572</td>\n",
       "      <td>54.024601</td>\n",
       "      <td>POLYGON ((5272325.800 3532967.961, 5272394.595...</td>\n",
       "    </tr>\n",
       "    <tr>\n",
       "      <th>...</th>\n",
       "      <td>...</td>\n",
       "      <td>...</td>\n",
       "      <td>...</td>\n",
       "      <td>...</td>\n",
       "      <td>...</td>\n",
       "    </tr>\n",
       "    <tr>\n",
       "      <th>995</th>\n",
       "      <td>LTJURB002</td>\n",
       "      <td>Nemuno sl?nio pievos tarp Raudon?s ir Gelgaudi...</td>\n",
       "      <td>23.027633</td>\n",
       "      <td>55.094034</td>\n",
       "      <td>MULTIPOLYGON (((5141148.083 3626423.098, 51411...</td>\n",
       "    </tr>\n",
       "    <tr>\n",
       "      <th>996</th>\n",
       "      <td>ITA030045</td>\n",
       "      <td>Fondali di Capo Milazzo</td>\n",
       "      <td>15.231390</td>\n",
       "      <td>38.270020</td>\n",
       "      <td>POLYGON ((4782862.075 1704813.016, 4783537.045...</td>\n",
       "    </tr>\n",
       "    <tr>\n",
       "      <th>997</th>\n",
       "      <td>FR5200656</td>\n",
       "      <td>Dunes, forêt et marais d'Olonne</td>\n",
       "      <td>-1.812242</td>\n",
       "      <td>46.559664</td>\n",
       "      <td>MULTIPOLYGON (((3418091.138 2670770.140, 34180...</td>\n",
       "    </tr>\n",
       "    <tr>\n",
       "      <th>998</th>\n",
       "      <td>FR5402012</td>\n",
       "      <td>Plateau de Rochebonne</td>\n",
       "      <td>-2.429436</td>\n",
       "      <td>46.206558</td>\n",
       "      <td>POLYGON ((3352142.597 2653295.749, 3373364.593...</td>\n",
       "    </tr>\n",
       "    <tr>\n",
       "      <th>999</th>\n",
       "      <td>CZ0713739</td>\n",
       "      <td>Ruda nad Moravou</td>\n",
       "      <td>16.874964</td>\n",
       "      <td>49.974777</td>\n",
       "      <td>POLYGON ((4813420.182 3007764.054, 4813412.452...</td>\n",
       "    </tr>\n",
       "  </tbody>\n",
       "</table>\n",
       "<p>1000 rows × 5 columns</p>\n",
       "</div>"
      ],
      "text/plain": [
       "      SITECODE                                           SITENAME        lon  \\\n",
       "0    ES0000548                              Illeta de Cala Salada   1.293304   \n",
       "1    DE8334471                            Loisach-Kochelsee-Moore  11.354190   \n",
       "2    DE2533301                                 Sude mit Zuflüssen  11.214671   \n",
       "3    IT9340091              Zona costiera fra Briatico e Nicotera  15.903443   \n",
       "4    LTVARB004                                  Karavi?ki? mi?kas  24.650572   \n",
       "..         ...                                                ...        ...   \n",
       "995  LTJURB002  Nemuno sl?nio pievos tarp Raudon?s ir Gelgaudi...  23.027633   \n",
       "996  ITA030045                            Fondali di Capo Milazzo  15.231390   \n",
       "997  FR5200656                    Dunes, forêt et marais d'Olonne  -1.812242   \n",
       "998  FR5402012                              Plateau de Rochebonne  -2.429436   \n",
       "999  CZ0713739                                   Ruda nad Moravou  16.874964   \n",
       "\n",
       "           lat                                           geometry  \n",
       "0    39.011174  POLYGON ((3564067.926 1812647.648, 3564069.806...  \n",
       "1    47.683251  POLYGON ((4421186.931 2734606.011, 4421187.755...  \n",
       "2    53.397681  POLYGON ((4404911.239 3381739.303, 4404844.494...  \n",
       "3    38.647392  MULTIPOLYGON (((4834580.041 1743325.937, 48345...  \n",
       "4    54.024601  POLYGON ((5272325.800 3532967.961, 5272394.595...  \n",
       "..         ...                                                ...  \n",
       "995  55.094034  MULTIPOLYGON (((5141148.083 3626423.098, 51411...  \n",
       "996  38.270020  POLYGON ((4782862.075 1704813.016, 4783537.045...  \n",
       "997  46.559664  MULTIPOLYGON (((3418091.138 2670770.140, 34180...  \n",
       "998  46.206558  POLYGON ((3352142.597 2653295.749, 3373364.593...  \n",
       "999  49.974777  POLYGON ((4813420.182 3007764.054, 4813412.452...  \n",
       "\n",
       "[1000 rows x 5 columns]"
      ]
     },
     "execution_count": 10,
     "metadata": {},
     "output_type": "execute_result"
    }
   ],
   "source": [
    "all_protected_areas"
   ]
  },
  {
   "cell_type": "code",
   "execution_count": null,
   "metadata": {},
   "outputs": [],
   "source": []
  }
 ],
 "metadata": {
  "kernelspec": {
   "display_name": "predicting_land_cover",
   "language": "python",
   "name": "python3"
  },
  "language_info": {
   "codemirror_mode": {
    "name": "ipython",
    "version": 3
   },
   "file_extension": ".py",
   "mimetype": "text/x-python",
   "name": "python",
   "nbconvert_exporter": "python",
   "pygments_lexer": "ipython3",
   "version": "3.10.6"
  }
 },
 "nbformat": 4,
 "nbformat_minor": 2
}
