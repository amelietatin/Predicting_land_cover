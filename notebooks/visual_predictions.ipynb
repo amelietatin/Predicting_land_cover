{
 "cells": [
  {
   "cell_type": "markdown",
   "id": "d1068d54",
   "metadata": {},
   "source": [
    "### Visualize Predictions"
   ]
  },
  {
   "cell_type": "code",
   "execution_count": 1,
   "id": "ccb804d5",
   "metadata": {},
   "outputs": [],
   "source": [
    "import pandas as pd"
   ]
  },
  {
   "cell_type": "code",
   "execution_count": 2,
   "id": "42639334",
   "metadata": {},
   "outputs": [
    {
     "data": {
      "text/html": [
       "<div>\n",
       "<style scoped>\n",
       "    .dataframe tbody tr th:only-of-type {\n",
       "        vertical-align: middle;\n",
       "    }\n",
       "\n",
       "    .dataframe tbody tr th {\n",
       "        vertical-align: top;\n",
       "    }\n",
       "\n",
       "    .dataframe thead th {\n",
       "        text-align: right;\n",
       "    }\n",
       "</style>\n",
       "<table border=\"1\" class=\"dataframe\">\n",
       "  <thead>\n",
       "    <tr style=\"text-align: right;\">\n",
       "      <th></th>\n",
       "      <th>date</th>\n",
       "      <th>SITECODE</th>\n",
       "      <th>LC</th>\n",
       "      <th>LC_PROPORTION</th>\n",
       "      <th>lon</th>\n",
       "      <th>lat</th>\n",
       "    </tr>\n",
       "  </thead>\n",
       "  <tbody>\n",
       "    <tr>\n",
       "      <th>0</th>\n",
       "      <td>2015-07-01</td>\n",
       "      <td>IT5320009</td>\n",
       "      <td>Water</td>\n",
       "      <td>3.587173</td>\n",
       "      <td>13.292268</td>\n",
       "      <td>43.532192</td>\n",
       "    </tr>\n",
       "    <tr>\n",
       "      <th>1</th>\n",
       "      <td>2015-07-01</td>\n",
       "      <td>IT5320009</td>\n",
       "      <td>Trees</td>\n",
       "      <td>25.068529</td>\n",
       "      <td>13.292268</td>\n",
       "      <td>43.532192</td>\n",
       "    </tr>\n",
       "    <tr>\n",
       "      <th>2</th>\n",
       "      <td>2015-07-01</td>\n",
       "      <td>IT5320009</td>\n",
       "      <td>Grass</td>\n",
       "      <td>3.445941</td>\n",
       "      <td>13.292268</td>\n",
       "      <td>43.532192</td>\n",
       "    </tr>\n",
       "    <tr>\n",
       "      <th>3</th>\n",
       "      <td>2015-07-01</td>\n",
       "      <td>IT5320009</td>\n",
       "      <td>Flooded Vegetation</td>\n",
       "      <td>1.554780</td>\n",
       "      <td>13.292268</td>\n",
       "      <td>43.532192</td>\n",
       "    </tr>\n",
       "    <tr>\n",
       "      <th>4</th>\n",
       "      <td>2015-07-01</td>\n",
       "      <td>IT5320009</td>\n",
       "      <td>Crops</td>\n",
       "      <td>36.791729</td>\n",
       "      <td>13.292268</td>\n",
       "      <td>43.532192</td>\n",
       "    </tr>\n",
       "    <tr>\n",
       "      <th>...</th>\n",
       "      <td>...</td>\n",
       "      <td>...</td>\n",
       "      <td>...</td>\n",
       "      <td>...</td>\n",
       "      <td>...</td>\n",
       "      <td>...</td>\n",
       "    </tr>\n",
       "    <tr>\n",
       "      <th>228424</th>\n",
       "      <td>2024-04-01</td>\n",
       "      <td>IT4020021</td>\n",
       "      <td>Crops</td>\n",
       "      <td>36.639650</td>\n",
       "      <td>10.156949</td>\n",
       "      <td>44.744558</td>\n",
       "    </tr>\n",
       "    <tr>\n",
       "      <th>228425</th>\n",
       "      <td>2024-04-01</td>\n",
       "      <td>IT4020021</td>\n",
       "      <td>Shrub and Scrub</td>\n",
       "      <td>3.665165</td>\n",
       "      <td>10.156949</td>\n",
       "      <td>44.744558</td>\n",
       "    </tr>\n",
       "    <tr>\n",
       "      <th>228426</th>\n",
       "      <td>2024-04-01</td>\n",
       "      <td>IT4020021</td>\n",
       "      <td>Built Area</td>\n",
       "      <td>6.063098</td>\n",
       "      <td>10.156949</td>\n",
       "      <td>44.744558</td>\n",
       "    </tr>\n",
       "    <tr>\n",
       "      <th>228427</th>\n",
       "      <td>2024-04-01</td>\n",
       "      <td>IT4020021</td>\n",
       "      <td>Bare Ground</td>\n",
       "      <td>13.193696</td>\n",
       "      <td>10.156949</td>\n",
       "      <td>44.744558</td>\n",
       "    </tr>\n",
       "    <tr>\n",
       "      <th>228428</th>\n",
       "      <td>2024-04-01</td>\n",
       "      <td>IT4020021</td>\n",
       "      <td>Snow and Ice</td>\n",
       "      <td>0.017150</td>\n",
       "      <td>10.156949</td>\n",
       "      <td>44.744558</td>\n",
       "    </tr>\n",
       "  </tbody>\n",
       "</table>\n",
       "<p>228429 rows × 6 columns</p>\n",
       "</div>"
      ],
      "text/plain": [
       "              date   SITECODE                  LC  LC_PROPORTION        lon  \\\n",
       "0       2015-07-01  IT5320009               Water       3.587173  13.292268   \n",
       "1       2015-07-01  IT5320009               Trees      25.068529  13.292268   \n",
       "2       2015-07-01  IT5320009               Grass       3.445941  13.292268   \n",
       "3       2015-07-01  IT5320009  Flooded Vegetation       1.554780  13.292268   \n",
       "4       2015-07-01  IT5320009               Crops      36.791729  13.292268   \n",
       "...            ...        ...                 ...            ...        ...   \n",
       "228424  2024-04-01  IT4020021               Crops      36.639650  10.156949   \n",
       "228425  2024-04-01  IT4020021     Shrub and Scrub       3.665165  10.156949   \n",
       "228426  2024-04-01  IT4020021          Built Area       6.063098  10.156949   \n",
       "228427  2024-04-01  IT4020021         Bare Ground      13.193696  10.156949   \n",
       "228428  2024-04-01  IT4020021        Snow and Ice       0.017150  10.156949   \n",
       "\n",
       "              lat  \n",
       "0       43.532192  \n",
       "1       43.532192  \n",
       "2       43.532192  \n",
       "3       43.532192  \n",
       "4       43.532192  \n",
       "...           ...  \n",
       "228424  44.744558  \n",
       "228425  44.744558  \n",
       "228426  44.744558  \n",
       "228427  44.744558  \n",
       "228428  44.744558  \n",
       "\n",
       "[228429 rows x 6 columns]"
      ]
     },
     "execution_count": 2,
     "metadata": {},
     "output_type": "execute_result"
    }
   ],
   "source": [
    "final_table_2015_2024_multiple_pa = pd.read_csv('../raw_data/final_merge/final_lc_multiple_areas_2015_2024.csv')\n",
    "final_table_2015_2024_multiple_pa"
   ]
  },
  {
   "cell_type": "markdown",
   "id": "547d196f",
   "metadata": {},
   "source": [
    "### Import"
   ]
  },
  {
   "cell_type": "code",
   "execution_count": 3,
   "id": "f690f8d3",
   "metadata": {},
   "outputs": [
    {
     "name": "stdout",
     "output_type": "stream",
     "text": [
      "Requirement already satisfied: ipywidgets in /Users/florentinekleist/.pyenv/versions/3.10.6/envs/predicting_land_cover/lib/python3.10/site-packages (8.1.3)\n",
      "Requirement already satisfied: comm>=0.1.3 in /Users/florentinekleist/.pyenv/versions/3.10.6/envs/predicting_land_cover/lib/python3.10/site-packages (from ipywidgets) (0.2.2)\n",
      "Requirement already satisfied: ipython>=6.1.0 in /Users/florentinekleist/.pyenv/versions/3.10.6/envs/predicting_land_cover/lib/python3.10/site-packages (from ipywidgets) (8.24.0)\n",
      "Requirement already satisfied: traitlets>=4.3.1 in /Users/florentinekleist/.pyenv/versions/3.10.6/envs/predicting_land_cover/lib/python3.10/site-packages (from ipywidgets) (5.14.3)\n",
      "Requirement already satisfied: widgetsnbextension~=4.0.11 in /Users/florentinekleist/.pyenv/versions/3.10.6/envs/predicting_land_cover/lib/python3.10/site-packages (from ipywidgets) (4.0.11)\n",
      "Requirement already satisfied: jupyterlab-widgets~=3.0.11 in /Users/florentinekleist/.pyenv/versions/3.10.6/envs/predicting_land_cover/lib/python3.10/site-packages (from ipywidgets) (3.0.11)\n",
      "Requirement already satisfied: decorator in /Users/florentinekleist/.pyenv/versions/3.10.6/envs/predicting_land_cover/lib/python3.10/site-packages (from ipython>=6.1.0->ipywidgets) (5.1.1)\n",
      "Requirement already satisfied: jedi>=0.16 in /Users/florentinekleist/.pyenv/versions/3.10.6/envs/predicting_land_cover/lib/python3.10/site-packages (from ipython>=6.1.0->ipywidgets) (0.19.1)\n",
      "Requirement already satisfied: matplotlib-inline in /Users/florentinekleist/.pyenv/versions/3.10.6/envs/predicting_land_cover/lib/python3.10/site-packages (from ipython>=6.1.0->ipywidgets) (0.1.7)\n",
      "Requirement already satisfied: prompt-toolkit<3.1.0,>=3.0.41 in /Users/florentinekleist/.pyenv/versions/3.10.6/envs/predicting_land_cover/lib/python3.10/site-packages (from ipython>=6.1.0->ipywidgets) (3.0.43)\n",
      "Requirement already satisfied: pygments>=2.4.0 in /Users/florentinekleist/.pyenv/versions/3.10.6/envs/predicting_land_cover/lib/python3.10/site-packages (from ipython>=6.1.0->ipywidgets) (2.18.0)\n",
      "Requirement already satisfied: stack-data in /Users/florentinekleist/.pyenv/versions/3.10.6/envs/predicting_land_cover/lib/python3.10/site-packages (from ipython>=6.1.0->ipywidgets) (0.6.3)\n",
      "Requirement already satisfied: exceptiongroup in /Users/florentinekleist/.pyenv/versions/3.10.6/envs/predicting_land_cover/lib/python3.10/site-packages (from ipython>=6.1.0->ipywidgets) (1.2.1)\n",
      "Requirement already satisfied: typing-extensions>=4.6 in /Users/florentinekleist/.pyenv/versions/3.10.6/envs/predicting_land_cover/lib/python3.10/site-packages (from ipython>=6.1.0->ipywidgets) (4.12.0)\n",
      "Requirement already satisfied: pexpect>4.3 in /Users/florentinekleist/.pyenv/versions/3.10.6/envs/predicting_land_cover/lib/python3.10/site-packages (from ipython>=6.1.0->ipywidgets) (4.9.0)\n",
      "Requirement already satisfied: parso<0.9.0,>=0.8.3 in /Users/florentinekleist/.pyenv/versions/3.10.6/envs/predicting_land_cover/lib/python3.10/site-packages (from jedi>=0.16->ipython>=6.1.0->ipywidgets) (0.8.4)\n",
      "Requirement already satisfied: ptyprocess>=0.5 in /Users/florentinekleist/.pyenv/versions/3.10.6/envs/predicting_land_cover/lib/python3.10/site-packages (from pexpect>4.3->ipython>=6.1.0->ipywidgets) (0.7.0)\n",
      "Requirement already satisfied: wcwidth in /Users/florentinekleist/.pyenv/versions/3.10.6/envs/predicting_land_cover/lib/python3.10/site-packages (from prompt-toolkit<3.1.0,>=3.0.41->ipython>=6.1.0->ipywidgets) (0.2.13)\n",
      "Requirement already satisfied: executing>=1.2.0 in /Users/florentinekleist/.pyenv/versions/3.10.6/envs/predicting_land_cover/lib/python3.10/site-packages (from stack-data->ipython>=6.1.0->ipywidgets) (2.0.1)\n",
      "Requirement already satisfied: asttokens>=2.1.0 in /Users/florentinekleist/.pyenv/versions/3.10.6/envs/predicting_land_cover/lib/python3.10/site-packages (from stack-data->ipython>=6.1.0->ipywidgets) (2.4.1)\n",
      "Requirement already satisfied: pure-eval in /Users/florentinekleist/.pyenv/versions/3.10.6/envs/predicting_land_cover/lib/python3.10/site-packages (from stack-data->ipython>=6.1.0->ipywidgets) (0.2.2)\n",
      "Requirement already satisfied: six>=1.12.0 in /Users/florentinekleist/.pyenv/versions/3.10.6/envs/predicting_land_cover/lib/python3.10/site-packages (from asttokens>=2.1.0->stack-data->ipython>=6.1.0->ipywidgets) (1.16.0)\n",
      "Note: you may need to restart the kernel to use updated packages.\n"
     ]
    }
   ],
   "source": [
    "import pandas as pd\n",
    "import matplotlib.pyplot as plt\n",
    "%pip install ipywidgets\n",
    "import ipywidgets as widgets\n",
    "from IPython.display import display"
   ]
  },
  {
   "cell_type": "markdown",
   "id": "4543c4b5",
   "metadata": {},
   "source": [
    "### Trial I"
   ]
  },
  {
   "cell_type": "code",
   "execution_count": 30,
   "id": "9cba350e",
   "metadata": {},
   "outputs": [
    {
     "data": {
      "application/vnd.jupyter.widget-view+json": {
       "model_id": "288c06dd7a3149d4b3755d1df6cc1358",
       "version_major": 2,
       "version_minor": 0
      },
      "text/plain": [
       "interactive(children=(Dropdown(description='Quarter:', options={'Q1': '01-01', 'Q2': '04-01', 'Q3': '07-01', '…"
      ]
     },
     "execution_count": 30,
     "metadata": {},
     "output_type": "execute_result"
    }
   ],
   "source": [
    "# Convert 'date' column to datetime format\n",
    "final_table_2015_2024_multiple_pa['date'] = pd.to_datetime(final_table_2015_2024_multiple_pa['date'])\n",
    "\n",
    "# Define available quarters\n",
    "quarters = {'Q1': '01-01', 'Q2': '04-01', 'Q3': '07-01', 'Q4': '10-01'}\n",
    "years = range(2015, 2025, 1)\n",
    "\n",
    "Site = \"IT5320009\"\n",
    "# Filter data for a specific protected area\n",
    "protected_area_code = Site  # Change this to select a different protected area\n",
    "filtered_pa_data = final_table_2015_2024_multiple_pa[final_table_2015_2024_multiple_pa['SITECODE'] == protected_area_code]\n",
    "\n",
    "# Create widgets\n",
    "quarter_dropdown = widgets.Dropdown(\n",
    "    options=quarters,\n",
    "    value='01-01',\n",
    "    description='Quarter:',\n",
    "    disabled=False,\n",
    ")\n",
    "\n",
    "# Define function to update plot\n",
    "def update_plot(quarter):\n",
    "    quarter_dates = filtered_pa_data[filtered_pa_data['date'].dt.strftime('%m-%d') == quarter]\n",
    "\n",
    "    # Pivot the data to have LC as columns and proportions as values\n",
    "    pivoted_data = quarter_dates.pivot_table(index='date', columns='LC', values='LC_PROPORTION', aggfunc='sum').fillna(0)\n",
    "\n",
    "    plt.figure(figsize=(12, 12))\n",
    "    pivoted_data.plot(kind='line', stacked=True)\n",
    "    plt.title(f'Land Cover Proportions Over the Years for {protected_area_code} - Quarter {quarter}')\n",
    "    plt.xlabel('Year')\n",
    "    plt.ylabel('Proportion')\n",
    "    plt.legend(title='Land Cover Category', bbox_to_anchor=(1.05, 1), loc='upper left')\n",
    "    plt.tight_layout()\n",
    "    plt.show()\n",
    "\n",
    "# Display widgets and interactive plot\n",
    "widgets.interactive(update_plot, quarter=quarter_dropdown)\n"
   ]
  },
  {
   "cell_type": "markdown",
   "id": "a7110b18",
   "metadata": {},
   "source": [
    "### Trial II"
   ]
  },
  {
   "cell_type": "code",
   "execution_count": 18,
   "id": "baf6efd5",
   "metadata": {},
   "outputs": [
    {
     "data": {
      "application/vnd.jupyter.widget-view+json": {
       "model_id": "f66c82684f46453a92a1d4f296923115",
       "version_major": 2,
       "version_minor": 0
      },
      "text/plain": [
       "Dropdown(description='Sitecode:', options=('IT5320009', 'IT4050014', 'IT4060015', 'IT5330008', 'IT4080001', 'I…"
      ]
     },
     "metadata": {},
     "output_type": "display_data"
    },
    {
     "data": {
      "application/vnd.jupyter.widget-view+json": {
       "model_id": "b4f3401e191e440887233b32f6a45521",
       "version_major": 2,
       "version_minor": 0
      },
      "text/plain": [
       "Dropdown(description='Quarter:', options={'Q1': '01-01', 'Q2': '04-01', 'Q3': '07-01', 'Q4': '10-01'}, value='…"
      ]
     },
     "metadata": {},
     "output_type": "display_data"
    },
    {
     "data": {
      "application/vnd.jupyter.widget-view+json": {
       "model_id": "25966fbeab294ef895629cb951965246",
       "version_major": 2,
       "version_minor": 0
      },
      "text/plain": [
       "interactive(children=(Dropdown(description='Sitecode:', options=('IT5320009', 'IT4050014', 'IT4060015', 'IT533…"
      ]
     },
     "metadata": {},
     "output_type": "display_data"
    }
   ],
   "source": [
    "# Convert 'date' column to datetime format if not already done\n",
    "final_table_2015_2024_multiple_pa['date'] = pd.to_datetime(final_table_2015_2024_multiple_pa['date'])\n",
    "\n",
    "# Convert LC_PROPORTION to numeric\n",
    "#final_table_2015_2024_multiple_pa['LC_PROPORTION'] = pd.to_numeric(final_table_2015_2024_multiple_pa['LC_PROPORTION'], errors='coerce')\n",
    "\n",
    "# Define available quarters\n",
    "quarters = {'Q1': '01-01', 'Q2': '04-01', 'Q3': '07-01', 'Q4': '10-01'}\n",
    "years = range(2015, 2025, 1)\n",
    "\n",
    "# Create dropdown for SITECODEs\n",
    "sitecodes = final_table_2015_2024_multiple_pa['SITECODE'].unique()\n",
    "sitecode_dropdown = widgets.Dropdown(\n",
    "    options=sitecodes,\n",
    "    value=sitecodes[0],\n",
    "    description='Sitecode:',\n",
    "    disabled=False,\n",
    ")\n",
    "\n",
    "# Create dropdown for quarters\n",
    "quarter_dropdown = widgets.Dropdown(\n",
    "    options=quarters,\n",
    "    value='01-01',\n",
    "    description='Quarter:',\n",
    "    disabled=False,\n",
    ")\n",
    "\n",
    "# Define function to update plot\n",
    "def update_plot(sitecode, quarter):\n",
    "    filtered_pa_data = final_table_2015_2024_multiple_pa[final_table_2015_2024_multiple_pa['SITECODE'] == sitecode]\n",
    "    quarter_dates = filtered_pa_data[filtered_pa_data['date'].dt.strftime('%m-%d') == quarter]\n",
    "\n",
    "    # Pivot the data to have LC as columns and proportions as values\n",
    "    pivoted_data = quarter_dates.pivot_table(index='date', columns='LC', values='LC_PROPORTION', aggfunc='sum').fillna(0)\n",
    "\n",
    "    # Debugging: Check the pivoted_data content and types\n",
    "    print(\"Pivoted Data Types:\")\n",
    "    print(pivoted_data.dtypes)\n",
    "    print(\"Pivoted Data:\")\n",
    "    print(pivoted_data.head())\n",
    "\n",
    "    plt.figure(figsize=(18, 12))\n",
    "    pivoted_data.plot(kind='area', stacked=True)  # Use area plot for stacked lines\n",
    "    plt.title(f'Land Cover Proportions Over the Years for {sitecode} - Quarter {quarter}')\n",
    "    plt.xlabel('Year')\n",
    "    plt.ylabel('Proportion')\n",
    "    plt.legend(title='Land Cover Category', bbox_to_anchor=(1.05, 1), loc='upper left')\n",
    "    plt.tight_layout()\n",
    "    plt.show()\n",
    "\n",
    "# Create interactive plot\n",
    "interactive_plot = widgets.interactive(update_plot, sitecode=sitecode_dropdown, quarter=quarter_dropdown)\n",
    "\n",
    "# Display widgets and interactive plot\n",
    "display(sitecode_dropdown, quarter_dropdown)\n",
    "display(interactive_plot)\n"
   ]
  },
  {
   "cell_type": "code",
   "execution_count": 8,
   "id": "a7b02b53",
   "metadata": {},
   "outputs": [],
   "source": [
    "#future_values_2100_all_pa = pd.read_csv('../raw_data/final_merge/all_pa_future_values_2100.csv')\n",
    "#future_values_2100_all_pa"
   ]
  }
 ],
 "metadata": {
  "kernelspec": {
   "display_name": "Python 3 (ipykernel)",
   "language": "python",
   "name": "python3"
  },
  "language_info": {
   "codemirror_mode": {
    "name": "ipython",
    "version": 3
   },
   "file_extension": ".py",
   "mimetype": "text/x-python",
   "name": "python",
   "nbconvert_exporter": "python",
   "pygments_lexer": "ipython3",
   "version": "3.10.6"
  },
  "toc": {
   "base_numbering": 1,
   "nav_menu": {},
   "number_sections": true,
   "sideBar": true,
   "skip_h1_title": false,
   "title_cell": "Table of Contents",
   "title_sidebar": "Contents",
   "toc_cell": false,
   "toc_position": {},
   "toc_section_display": true,
   "toc_window_display": false
  }
 },
 "nbformat": 4,
 "nbformat_minor": 5
}
