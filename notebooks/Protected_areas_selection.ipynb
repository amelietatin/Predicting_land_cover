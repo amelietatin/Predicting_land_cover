{
 "cells": [
  {
   "cell_type": "markdown",
   "id": "2fd7eec5",
   "metadata": {
    "heading_collapsed": true
   },
   "source": [
    "## PACKAGES"
   ]
  },
  {
   "cell_type": "code",
   "execution_count": 1,
   "id": "b361a797",
   "metadata": {
    "hidden": true,
    "scrolled": true
   },
   "outputs": [],
   "source": [
    "#pip install geopandas"
   ]
  },
  {
   "cell_type": "code",
   "execution_count": 2,
   "id": "bc067475",
   "metadata": {
    "hidden": true
   },
   "outputs": [],
   "source": [
    "import geopandas as gp\n",
    "\n",
    "import pandas as pd\n",
    "import numpy as np\n",
    "\n",
    "import matplotlib.pyplot as plt\n",
    "import seaborn as sns"
   ]
  },
  {
   "cell_type": "markdown",
   "id": "e6bc309d",
   "metadata": {
    "heading_collapsed": true
   },
   "source": [
    "# Read the whole shapefile"
   ]
  },
  {
   "cell_type": "code",
   "execution_count": 3,
   "id": "57ebd53f",
   "metadata": {
    "hidden": true
   },
   "outputs": [
    {
     "data": {
      "text/plain": [
       "'/Users/amelietatin/code/amelietatin/Predicting_land_cover/notebooks'"
      ]
     },
     "execution_count": 3,
     "metadata": {},
     "output_type": "execute_result"
    }
   ],
   "source": [
    "pwd"
   ]
  },
  {
   "cell_type": "code",
   "execution_count": 4,
   "id": "3741727c",
   "metadata": {
    "hidden": true
   },
   "outputs": [],
   "source": [
    "all_protected_areas = gp.read_file(\"../raw_data/all_protected_areas_shp/Natura2000_end2022_epsg3035.shp\")"
   ]
  },
  {
   "cell_type": "code",
   "execution_count": 5,
   "id": "c0c20b2d",
   "metadata": {
    "hidden": true,
    "scrolled": false
   },
   "outputs": [
    {
     "data": {
      "text/html": [
       "<div>\n",
       "<style scoped>\n",
       "    .dataframe tbody tr th:only-of-type {\n",
       "        vertical-align: middle;\n",
       "    }\n",
       "\n",
       "    .dataframe tbody tr th {\n",
       "        vertical-align: top;\n",
       "    }\n",
       "\n",
       "    .dataframe thead th {\n",
       "        text-align: right;\n",
       "    }\n",
       "</style>\n",
       "<table border=\"1\" class=\"dataframe\">\n",
       "  <thead>\n",
       "    <tr style=\"text-align: right;\">\n",
       "      <th></th>\n",
       "      <th>SITECODE</th>\n",
       "      <th>SITENAME</th>\n",
       "      <th>RELEASE_DA</th>\n",
       "      <th>MS</th>\n",
       "      <th>SITETYPE</th>\n",
       "      <th>INSPIRE_ID</th>\n",
       "      <th>area</th>\n",
       "      <th>geometry</th>\n",
       "    </tr>\n",
       "  </thead>\n",
       "  <tbody>\n",
       "    <tr>\n",
       "      <th>0</th>\n",
       "      <td>BG0002104</td>\n",
       "      <td>Tsibarsko blato</td>\n",
       "      <td>2021-12-15</td>\n",
       "      <td>BG</td>\n",
       "      <td>A</td>\n",
       "      <td>None</td>\n",
       "      <td>9097408.781</td>\n",
       "      <td>POLYGON ((5400559.283 2397105.657, 5400557.363...</td>\n",
       "    </tr>\n",
       "    <tr>\n",
       "      <th>1</th>\n",
       "      <td>CY3000006</td>\n",
       "      <td>THALASSIA PERIOCHI NISIA</td>\n",
       "      <td>2022-10-18</td>\n",
       "      <td>CY</td>\n",
       "      <td>B</td>\n",
       "      <td>None</td>\n",
       "      <td>1917559.082</td>\n",
       "      <td>POLYGON ((6501132.084 1672770.796, 6501815.998...</td>\n",
       "    </tr>\n",
       "  </tbody>\n",
       "</table>\n",
       "</div>"
      ],
      "text/plain": [
       "    SITECODE                  SITENAME  RELEASE_DA  MS SITETYPE INSPIRE_ID  \\\n",
       "0  BG0002104           Tsibarsko blato  2021-12-15  BG        A       None   \n",
       "1  CY3000006  THALASSIA PERIOCHI NISIA  2022-10-18  CY        B       None   \n",
       "\n",
       "          area                                           geometry  \n",
       "0  9097408.781  POLYGON ((5400559.283 2397105.657, 5400557.363...  \n",
       "1  1917559.082  POLYGON ((6501132.084 1672770.796, 6501815.998...  "
      ]
     },
     "execution_count": 5,
     "metadata": {},
     "output_type": "execute_result"
    }
   ],
   "source": [
    "all_protected_areas.head(2)"
   ]
  },
  {
   "cell_type": "code",
   "execution_count": 6,
   "id": "63f55cbc",
   "metadata": {
    "hidden": true
   },
   "outputs": [
    {
     "name": "stdout",
     "output_type": "stream",
     "text": [
      "<class 'geopandas.geodataframe.GeoDataFrame'>\n",
      "RangeIndex: 27193 entries, 0 to 27192\n",
      "Data columns (total 8 columns):\n",
      " #   Column      Non-Null Count  Dtype   \n",
      "---  ------      --------------  -----   \n",
      " 0   SITECODE    27193 non-null  object  \n",
      " 1   SITENAME    27193 non-null  object  \n",
      " 2   RELEASE_DA  27193 non-null  object  \n",
      " 3   MS          27193 non-null  object  \n",
      " 4   SITETYPE    27193 non-null  object  \n",
      " 5   INSPIRE_ID  3486 non-null   object  \n",
      " 6   area        27193 non-null  float64 \n",
      " 7   geometry    27193 non-null  geometry\n",
      "dtypes: float64(1), geometry(1), object(6)\n",
      "memory usage: 1.7+ MB\n"
     ]
    }
   ],
   "source": [
    "all_protected_areas.info()"
   ]
  },
  {
   "cell_type": "code",
   "execution_count": 7,
   "id": "281db78d",
   "metadata": {
    "hidden": true,
    "scrolled": false
   },
   "outputs": [
    {
     "data": {
      "text/plain": [
       "geopandas.geodataframe.GeoDataFrame"
      ]
     },
     "execution_count": 7,
     "metadata": {},
     "output_type": "execute_result"
    }
   ],
   "source": [
    "type(all_protected_areas)"
   ]
  },
  {
   "cell_type": "code",
   "execution_count": 8,
   "id": "e1db6f4a",
   "metadata": {
    "hidden": true
   },
   "outputs": [
    {
     "data": {
      "text/plain": [
       "27193"
      ]
     },
     "execution_count": 8,
     "metadata": {},
     "output_type": "execute_result"
    }
   ],
   "source": [
    "all_protected_areas.SITECODE.nunique() # NUMBER OF UNIQUE PROTECTED AREAS IDs"
   ]
  },
  {
   "cell_type": "code",
   "execution_count": 9,
   "id": "be7c816f",
   "metadata": {
    "hidden": true,
    "scrolled": true
   },
   "outputs": [
    {
     "data": {
      "text/plain": [
       "array(['A', 'B', 'C'], dtype=object)"
      ]
     },
     "execution_count": 9,
     "metadata": {},
     "output_type": "execute_result"
    }
   ],
   "source": [
    "all_protected_areas.SITETYPE.unique() # DIFFERENT SITE TYPES"
   ]
  },
  {
   "cell_type": "markdown",
   "id": "e8b11c8c",
   "metadata": {
    "heading_collapsed": true
   },
   "source": [
    "# Bounding box (for CDS API) of all the protected areas"
   ]
  },
  {
   "cell_type": "code",
   "execution_count": 10,
   "id": "d04856b2",
   "metadata": {
    "hidden": true
   },
   "outputs": [],
   "source": [
    "all_protected_areas[\"centroid_lon_lat\"]=all_protected_areas[\"geometry\"].centroid.to_crs(epsg=4326)\n",
    "all_protected_areas[\"lon\"] = all_protected_areas.centroid_lon_lat.x\n",
    "all_protected_areas[\"lat\"] = all_protected_areas.centroid_lon_lat.y"
   ]
  },
  {
   "cell_type": "code",
   "execution_count": 11,
   "id": "9fbab94e",
   "metadata": {
    "hidden": true
   },
   "outputs": [
    {
     "data": {
      "text/html": [
       "<div>\n",
       "<style scoped>\n",
       "    .dataframe tbody tr th:only-of-type {\n",
       "        vertical-align: middle;\n",
       "    }\n",
       "\n",
       "    .dataframe tbody tr th {\n",
       "        vertical-align: top;\n",
       "    }\n",
       "\n",
       "    .dataframe thead th {\n",
       "        text-align: right;\n",
       "    }\n",
       "</style>\n",
       "<table border=\"1\" class=\"dataframe\">\n",
       "  <thead>\n",
       "    <tr style=\"text-align: right;\">\n",
       "      <th></th>\n",
       "      <th>SITECODE</th>\n",
       "      <th>SITENAME</th>\n",
       "      <th>RELEASE_DA</th>\n",
       "      <th>MS</th>\n",
       "      <th>SITETYPE</th>\n",
       "      <th>INSPIRE_ID</th>\n",
       "      <th>area</th>\n",
       "      <th>geometry</th>\n",
       "      <th>centroid_lon_lat</th>\n",
       "      <th>lon</th>\n",
       "      <th>lat</th>\n",
       "    </tr>\n",
       "  </thead>\n",
       "  <tbody>\n",
       "    <tr>\n",
       "      <th>0</th>\n",
       "      <td>BG0002104</td>\n",
       "      <td>Tsibarsko blato</td>\n",
       "      <td>2021-12-15</td>\n",
       "      <td>BG</td>\n",
       "      <td>A</td>\n",
       "      <td>None</td>\n",
       "      <td>9097408.781</td>\n",
       "      <td>POLYGON ((5400559.283 2397105.657, 5400557.363...</td>\n",
       "      <td>POINT (23.47291 43.82178)</td>\n",
       "      <td>23.472909</td>\n",
       "      <td>43.821775</td>\n",
       "    </tr>\n",
       "    <tr>\n",
       "      <th>1</th>\n",
       "      <td>CY3000006</td>\n",
       "      <td>THALASSIA PERIOCHI NISIA</td>\n",
       "      <td>2022-10-18</td>\n",
       "      <td>CY</td>\n",
       "      <td>B</td>\n",
       "      <td>None</td>\n",
       "      <td>1917559.082</td>\n",
       "      <td>POLYGON ((6501132.084 1672770.796, 6501815.998...</td>\n",
       "      <td>POINT (34.07156 35.00162)</td>\n",
       "      <td>34.071555</td>\n",
       "      <td>35.001619</td>\n",
       "    </tr>\n",
       "  </tbody>\n",
       "</table>\n",
       "</div>"
      ],
      "text/plain": [
       "    SITECODE                  SITENAME  RELEASE_DA  MS SITETYPE INSPIRE_ID  \\\n",
       "0  BG0002104           Tsibarsko blato  2021-12-15  BG        A       None   \n",
       "1  CY3000006  THALASSIA PERIOCHI NISIA  2022-10-18  CY        B       None   \n",
       "\n",
       "          area                                           geometry  \\\n",
       "0  9097408.781  POLYGON ((5400559.283 2397105.657, 5400557.363...   \n",
       "1  1917559.082  POLYGON ((6501132.084 1672770.796, 6501815.998...   \n",
       "\n",
       "            centroid_lon_lat        lon        lat  \n",
       "0  POINT (23.47291 43.82178)  23.472909  43.821775  \n",
       "1  POINT (34.07156 35.00162)  34.071555  35.001619  "
      ]
     },
     "execution_count": 11,
     "metadata": {},
     "output_type": "execute_result"
    }
   ],
   "source": [
    "all_protected_areas.head(2)"
   ]
  },
  {
   "cell_type": "code",
   "execution_count": 12,
   "id": "de1653a7",
   "metadata": {
    "hidden": true
   },
   "outputs": [
    {
     "data": {
      "text/plain": [
       "(-32.30906837949666, 34.071555485388096, 27.658764598717514, 70.01981302035634)"
      ]
     },
     "execution_count": 12,
     "metadata": {},
     "output_type": "execute_result"
    }
   ],
   "source": [
    "all_protected_areas[\"lon\"].min(), all_protected_areas[\"lon\"].max(), all_protected_areas[\"lat\"].min(), all_protected_areas[\"lat\"].max()\n"
   ]
  },
  {
   "cell_type": "markdown",
   "id": "1c0cfc82",
   "metadata": {
    "heading_collapsed": true
   },
   "source": [
    "# Select only the polygons"
   ]
  },
  {
   "cell_type": "code",
   "execution_count": 13,
   "id": "43bc8bed",
   "metadata": {
    "hidden": true
   },
   "outputs": [],
   "source": [
    "polygons_pa = all_protected_areas[all_protected_areas.geometry.type == 'Polygon']"
   ]
  },
  {
   "cell_type": "code",
   "execution_count": 14,
   "id": "0348eb62",
   "metadata": {
    "hidden": true
   },
   "outputs": [
    {
     "data": {
      "text/plain": [
       "geopandas.geodataframe.GeoDataFrame"
      ]
     },
     "execution_count": 14,
     "metadata": {},
     "output_type": "execute_result"
    }
   ],
   "source": [
    "type(polygons_pa)"
   ]
  },
  {
   "cell_type": "code",
   "execution_count": 15,
   "id": "6e47ef59",
   "metadata": {
    "hidden": true,
    "scrolled": true
   },
   "outputs": [
    {
     "data": {
      "text/plain": [
       "19238"
      ]
     },
     "execution_count": 15,
     "metadata": {},
     "output_type": "execute_result"
    }
   ],
   "source": [
    "polygons_pa.SITECODE.nunique()"
   ]
  },
  {
   "cell_type": "code",
   "execution_count": 16,
   "id": "243fb4f5",
   "metadata": {
    "hidden": true,
    "scrolled": true
   },
   "outputs": [
    {
     "data": {
      "text/plain": [
       "array(['A', 'B', 'C'], dtype=object)"
      ]
     },
     "execution_count": 16,
     "metadata": {},
     "output_type": "execute_result"
    }
   ],
   "source": [
    "polygons_pa.SITETYPE.unique()"
   ]
  },
  {
   "cell_type": "markdown",
   "id": "7f05266c",
   "metadata": {
    "heading_collapsed": true
   },
   "source": [
    "# Select only type C"
   ]
  },
  {
   "cell_type": "code",
   "execution_count": 17,
   "id": "b601d7b1",
   "metadata": {
    "hidden": true
   },
   "outputs": [],
   "source": [
    "polygons_type_C_pa = polygons_pa[polygons_pa.SITETYPE == 'C']"
   ]
  },
  {
   "cell_type": "code",
   "execution_count": 18,
   "id": "2c1b9cc7",
   "metadata": {
    "hidden": true
   },
   "outputs": [
    {
     "data": {
      "text/plain": [
       "geopandas.geodataframe.GeoDataFrame"
      ]
     },
     "execution_count": 18,
     "metadata": {},
     "output_type": "execute_result"
    }
   ],
   "source": [
    "type(polygons_type_C_pa)"
   ]
  },
  {
   "cell_type": "code",
   "execution_count": 19,
   "id": "e05c4252",
   "metadata": {
    "hidden": true,
    "scrolled": false
   },
   "outputs": [
    {
     "data": {
      "text/plain": [
       "1349"
      ]
     },
     "execution_count": 19,
     "metadata": {},
     "output_type": "execute_result"
    }
   ],
   "source": [
    "polygons_type_C_pa.SITECODE.nunique()"
   ]
  },
  {
   "cell_type": "markdown",
   "id": "c33ebea1",
   "metadata": {
    "heading_collapsed": true
   },
   "source": [
    "# Select on area size"
   ]
  },
  {
   "cell_type": "code",
   "execution_count": 20,
   "id": "96926107",
   "metadata": {
    "hidden": true,
    "scrolled": true
   },
   "outputs": [
    {
     "data": {
      "text/plain": [
       "count    2.719300e+04\n",
       "mean     5.834623e+07\n",
       "std      6.431153e+08\n",
       "min      1.017281e+00\n",
       "25%      4.346933e+05\n",
       "50%      2.825788e+06\n",
       "75%      1.822086e+07\n",
       "max      7.196047e+10\n",
       "dtype: float64"
      ]
     },
     "execution_count": 20,
     "metadata": {},
     "output_type": "execute_result"
    }
   ],
   "source": [
    "all_protected_areas.area.describe()"
   ]
  },
  {
   "cell_type": "code",
   "execution_count": 21,
   "id": "cb4575a0",
   "metadata": {
    "hidden": true,
    "scrolled": false
   },
   "outputs": [
    {
     "data": {
      "text/plain": [
       "count    1.349000e+03\n",
       "mean     1.042316e+08\n",
       "std      4.561199e+08\n",
       "min      7.502846e+03\n",
       "25%      2.448960e+06\n",
       "50%      1.064924e+07\n",
       "75%      4.639470e+07\n",
       "max      1.051245e+10\n",
       "dtype: float64"
      ]
     },
     "execution_count": 21,
     "metadata": {},
     "output_type": "execute_result"
    }
   ],
   "source": [
    "polygons_type_C_pa.area.describe()"
   ]
  },
  {
   "cell_type": "markdown",
   "id": "13901408",
   "metadata": {
    "hidden": true
   },
   "source": [
    "## Filter between 25% and 75%"
   ]
  },
  {
   "cell_type": "code",
   "execution_count": 22,
   "id": "bed43aaa",
   "metadata": {
    "hidden": true
   },
   "outputs": [],
   "source": [
    "filtered_area_pa = polygons_type_C_pa[(polygons_type_C_pa['area'] > 2.448960e+06) & (polygons_type_C_pa['area'] < 4.639470e+07)]"
   ]
  },
  {
   "cell_type": "code",
   "execution_count": 23,
   "id": "3d68c362",
   "metadata": {
    "hidden": true
   },
   "outputs": [
    {
     "data": {
      "text/plain": [
       "674"
      ]
     },
     "execution_count": 23,
     "metadata": {},
     "output_type": "execute_result"
    }
   ],
   "source": [
    "len(filtered_area_pa)"
   ]
  },
  {
   "cell_type": "markdown",
   "id": "d1068d54",
   "metadata": {
    "heading_collapsed": true
   },
   "source": [
    "# Select random protected areas FLORI/ALI/TIM/AMELIE"
   ]
  },
  {
   "cell_type": "code",
   "execution_count": 24,
   "id": "8be502aa",
   "metadata": {
    "hidden": true
   },
   "outputs": [],
   "source": [
    "# Calculate the number of records per group\n",
    "num_groups = 4\n",
    "records_per_group = len(filtered_area_pa) // num_groups\n",
    "records_per_group"
   ]
  },
  {
   "cell_type": "code",
   "execution_count": 42,
   "id": "62b7f690",
   "metadata": {
    "hidden": true
   },
   "outputs": [],
   "source": [
    "filtered_area_pa = filtered_area_pa[['SITECODE', 'SITENAME','geometry', 'lon', 'lat']]"
   ]
  },
  {
   "cell_type": "code",
   "execution_count": 43,
   "id": "549e2c39",
   "metadata": {
    "hidden": true,
    "scrolled": true
   },
   "outputs": [
    {
     "name": "stderr",
     "output_type": "stream",
     "text": [
      "/Users/amelietatin/.pyenv/versions/3.10.6/envs/Predicting_land_cover/lib/python3.10/site-packages/numpy/core/fromnumeric.py:59: FutureWarning: 'GeoDataFrame.swapaxes' is deprecated and will be removed in a future version. Please use 'GeoDataFrame.transpose' instead.\n",
      "  return bound(*args, **kwds)\n",
      "/Users/amelietatin/.pyenv/versions/3.10.6/envs/Predicting_land_cover/lib/python3.10/site-packages/numpy/core/fromnumeric.py:59: FutureWarning: 'GeoDataFrame.swapaxes' is deprecated and will be removed in a future version. Please use 'GeoDataFrame.transpose' instead.\n",
      "  return bound(*args, **kwds)\n",
      "/Users/amelietatin/.pyenv/versions/3.10.6/envs/Predicting_land_cover/lib/python3.10/site-packages/numpy/core/fromnumeric.py:59: FutureWarning: 'GeoDataFrame.swapaxes' is deprecated and will be removed in a future version. Please use 'GeoDataFrame.transpose' instead.\n",
      "  return bound(*args, **kwds)\n",
      "/Users/amelietatin/.pyenv/versions/3.10.6/envs/Predicting_land_cover/lib/python3.10/site-packages/numpy/core/fromnumeric.py:59: FutureWarning: 'GeoDataFrame.swapaxes' is deprecated and will be removed in a future version. Please use 'GeoDataFrame.transpose' instead.\n",
      "  return bound(*args, **kwds)\n",
      "/Users/amelietatin/.pyenv/versions/3.10.6/envs/Predicting_land_cover/lib/python3.10/site-packages/numpy/core/fromnumeric.py:59: FutureWarning: 'GeoDataFrame.swapaxes' is deprecated and will be removed in a future version. Please use 'GeoDataFrame.transpose' instead.\n",
      "  return bound(*args, **kwds)\n"
     ]
    }
   ],
   "source": [
    "# Split the GeoDataFrame into 4 equal groups\n",
    "groups = np.array_split(filtered_area_pa, num_groups)"
   ]
  },
  {
   "cell_type": "code",
   "execution_count": 44,
   "id": "07bacb21",
   "metadata": {
    "hidden": true
   },
   "outputs": [],
   "source": [
    "protected_areas_for_ali = groups[0]\n",
    "protected_areas_for_tim = groups[1]\n",
    "protected_areas_for_flori = groups[2]\n",
    "protected_areas_for_amelie = groups[3]"
   ]
  },
  {
   "cell_type": "code",
   "execution_count": 45,
   "id": "5ae4a88b",
   "metadata": {
    "hidden": true
   },
   "outputs": [],
   "source": [
    "#filtered_area_pa_50 = filtered_area_pa.sample(50, random_state=1) \n",
    "#filtered_area_pa_10 = filtered_area_pa.sample(10, random_state=1) "
   ]
  },
  {
   "cell_type": "markdown",
   "id": "82d41047",
   "metadata": {
    "heading_collapsed": true
   },
   "source": [
    "#  Write new file"
   ]
  },
  {
   "cell_type": "code",
   "execution_count": 48,
   "id": "a61feb4b",
   "metadata": {
    "hidden": true,
    "scrolled": true
   },
   "outputs": [
    {
     "data": {
      "text/html": [
       "<div>\n",
       "<style scoped>\n",
       "    .dataframe tbody tr th:only-of-type {\n",
       "        vertical-align: middle;\n",
       "    }\n",
       "\n",
       "    .dataframe tbody tr th {\n",
       "        vertical-align: top;\n",
       "    }\n",
       "\n",
       "    .dataframe thead th {\n",
       "        text-align: right;\n",
       "    }\n",
       "</style>\n",
       "<table border=\"1\" class=\"dataframe\">\n",
       "  <thead>\n",
       "    <tr style=\"text-align: right;\">\n",
       "      <th></th>\n",
       "      <th>SITECODE</th>\n",
       "      <th>SITENAME</th>\n",
       "      <th>geometry</th>\n",
       "      <th>lon</th>\n",
       "      <th>lat</th>\n",
       "    </tr>\n",
       "  </thead>\n",
       "  <tbody>\n",
       "    <tr>\n",
       "      <th>22655</th>\n",
       "      <td>SE0230125</td>\n",
       "      <td>Svartåmynningen</td>\n",
       "      <td>POLYGON ((4644198.584 3942773.354, 4644646.309...</td>\n",
       "      <td>15.555642</td>\n",
       "      <td>58.464362</td>\n",
       "    </tr>\n",
       "    <tr>\n",
       "      <th>22679</th>\n",
       "      <td>SE0230157</td>\n",
       "      <td>Fjällmossen östgötadelen</td>\n",
       "      <td>POLYGON ((4700535.729 3972878.312, 4700696.681...</td>\n",
       "      <td>16.530107</td>\n",
       "      <td>58.693415</td>\n",
       "    </tr>\n",
       "  </tbody>\n",
       "</table>\n",
       "</div>"
      ],
      "text/plain": [
       "        SITECODE                  SITENAME  \\\n",
       "22655  SE0230125           Svartåmynningen   \n",
       "22679  SE0230157  Fjällmossen östgötadelen   \n",
       "\n",
       "                                                geometry        lon        lat  \n",
       "22655  POLYGON ((4644198.584 3942773.354, 4644646.309...  15.555642  58.464362  \n",
       "22679  POLYGON ((4700535.729 3972878.312, 4700696.681...  16.530107  58.693415  "
      ]
     },
     "execution_count": 48,
     "metadata": {},
     "output_type": "execute_result"
    }
   ],
   "source": [
    "protected_areas_for_amelie.head(2)"
   ]
  },
  {
   "cell_type": "code",
   "execution_count": 47,
   "id": "7306381d",
   "metadata": {
    "hidden": true
   },
   "outputs": [
    {
     "data": {
      "text/plain": [
       "(169, 168, 168, 169)"
      ]
     },
     "execution_count": 47,
     "metadata": {},
     "output_type": "execute_result"
    }
   ],
   "source": [
    "len(protected_areas_for_ali), len(protected_areas_for_flori), len(protected_areas_for_amelie), len(protected_areas_for_tim)"
   ]
  },
  {
   "cell_type": "code",
   "execution_count": 49,
   "id": "dfc0e5f0",
   "metadata": {
    "hidden": true,
    "scrolled": true
   },
   "outputs": [
    {
     "name": "stdout",
     "output_type": "stream",
     "text": [
      "/Users/amelietatin/code/amelietatin/Predicting_land_cover/notebooks\r\n"
     ]
    }
   ],
   "source": [
    "!pwd"
   ]
  },
  {
   "cell_type": "code",
   "execution_count": 78,
   "id": "52359f50",
   "metadata": {
    "hidden": true,
    "scrolled": true
   },
   "outputs": [],
   "source": [
    "#final_df_50.to_file('../raw_data/sample_protected_areas/sample_filtered_protected_areas_50.shp')\n",
    "#final_df_10.to_file('../raw_data/sample_protected_areas/sample_filtered_protected_areas_10.shp')"
   ]
  },
  {
   "cell_type": "code",
   "execution_count": 51,
   "id": "98ec2e37",
   "metadata": {
    "hidden": true
   },
   "outputs": [],
   "source": [
    "protected_areas_for_ali.to_file('../raw_data/protected_areas_to_share/ali/sample_protected_areas_for_ali.shp')\n",
    "protected_areas_for_flori.to_file('../raw_data/protected_areas_to_share/flori/sample_protected_areas_for_flori.shp')\n",
    "protected_areas_for_tim.to_file('../raw_data/protected_areas_to_share/tim/sample_protected_areas_for_tim.shp')\n",
    "protected_areas_for_amelie.to_file('../raw_data/protected_areas_to_share/amelie/sample_protected_areas_for_amelie.shp')"
   ]
  }
 ],
 "metadata": {
  "kernelspec": {
   "display_name": "Python 3 (ipykernel)",
   "language": "python",
   "name": "python3"
  },
  "language_info": {
   "codemirror_mode": {
    "name": "ipython",
    "version": 3
   },
   "file_extension": ".py",
   "mimetype": "text/x-python",
   "name": "python",
   "nbconvert_exporter": "python",
   "pygments_lexer": "ipython3",
   "version": "3.10.6"
  },
  "toc": {
   "base_numbering": 1,
   "nav_menu": {},
   "number_sections": true,
   "sideBar": true,
   "skip_h1_title": false,
   "title_cell": "Table of Contents",
   "title_sidebar": "Contents",
   "toc_cell": false,
   "toc_position": {},
   "toc_section_display": true,
   "toc_window_display": false
  }
 },
 "nbformat": 4,
 "nbformat_minor": 5
}
